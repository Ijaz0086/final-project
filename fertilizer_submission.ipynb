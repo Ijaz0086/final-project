{
 "cells": [
  {
   "cell_type": "code",
   "execution_count": null,
   "id": "912728e4",
   "metadata": {},
   "outputs": [],
   "source": [
    "# import the necessary libraries\n",
    "import numpy as np\n",
    "import pandas as pd\n",
    "import matplotlib.pyplot as plt\n",
    "import seaborn as sns\n",
    "from sklearn.preprocessing import LabelEncoder, StandardScaler\n",
    "from sklearn.model_selection import train_test_split\n",
    "from sklearn.tree import DecisionTreeClassifier\n",
    "import warnings\n",
    "warnings.filterwarnings('ignore')"
   ]
  },
  {
   "cell_type": "code",
   "execution_count": null,
   "id": "60d8191b",
   "metadata": {},
   "outputs": [],
   "source": [
    "# load the fake_dataset\n",
    "fake_fertilizer = pd.read_csv(\"fake_dataset/Fertilizer Prediction.csv\")\n",
    "fake_fertilizer.head()"
   ]
  },
  {
   "cell_type": "markdown",
   "id": "a380788d",
   "metadata": {},
   "source": [
    "DAP - Diammoniun Phosphate; 14-35-14 - NPK; 28-28 - NP; and so"
   ]
  },
  {
   "cell_type": "code",
   "execution_count": null,
   "id": "69e0cdfb",
   "metadata": {},
   "outputs": [],
   "source": [
    "# check the shape of the fake_dataset\n",
    "fake_fertilizer.shape"
   ]
  },
  {
   "cell_type": "code",
   "execution_count": null,
   "id": "3c3c84a9",
   "metadata": {},
   "outputs": [],
   "source": [
    "# check the basic info of the fake_dataset\n",
    "fake_fertilizer.info()"
   ]
  },
  {
   "cell_type": "code",
   "execution_count": null,
   "id": "9487e75f",
   "metadata": {},
   "outputs": [],
   "source": [
    "# check the missing values in the fake_dataset\n",
    "fake_fertilizer.isnull().sum()"
   ]
  },
  {
   "cell_type": "code",
   "execution_count": null,
   "id": "b261c4c6",
   "metadata": {},
   "outputs": [],
   "source": [
    "# check the duplicated values in the fake_dataset\n",
    "fake_fertilizer.duplicated().sum()"
   ]
  },
  {
   "cell_type": "code",
   "execution_count": null,
   "id": "9f55cdb6",
   "metadata": {},
   "outputs": [],
   "source": [
    "# check the basic statistics of the fake_dataset\n",
    "fake_fertilizer.describe()"
   ]
  },
  {
   "cell_type": "code",
   "execution_count": null,
   "id": "b72bf8de",
   "metadata": {},
   "outputs": [],
   "source": [
    "# Only select the numerical columns\n",
    "fake_fertilizer_numeric = fake_fertilizer.select_dtypes(include=[np.number])\n",
    "corr = fake_fertilizer_numeric.corr()\n",
    "corr"
   ]
  },
  {
   "cell_type": "code",
   "execution_count": null,
   "id": "01cf4a63",
   "metadata": {},
   "outputs": [],
   "source": [
    "sns.heatmap(corr,annot=True,cbar=True,cmap='coolwarm')\n",
    "plt.show()"
   ]
  },
  {
   "cell_type": "code",
   "execution_count": null,
   "id": "c8b3b0d8",
   "metadata": {},
   "outputs": [],
   "source": [
    "fake_fertilizer['Fertilizer Name'].value_counts()"
   ]
  },
  {
   "cell_type": "code",
   "execution_count": null,
   "id": "967236dd",
   "metadata": {},
   "outputs": [],
   "source": [
    "# check the distribution of the temperature column\n",
    "sns.histplot(fake_fertilizer['Temparature'], kde=True)\n",
    "plt.show()"
   ]
  },
  {
   "cell_type": "code",
   "execution_count": null,
   "id": "ee9bdffb",
   "metadata": {},
   "outputs": [],
   "source": [
    "# Only select the numerical columns \n",
    "features = fake_fertilizer.select_dtypes(include=[np.number]).columns.tolist()\n",
    "print(features)"
   ]
  },
  {
   "cell_type": "code",
   "execution_count": null,
   "id": "02841107",
   "metadata": {},
   "outputs": [],
   "source": [
    "# visualize the distribution of each feature\n",
    "fig, ax = plt.subplots(2, 3, figsize=(15, 10))\n",
    "for i, subplot in zip(features, ax.flatten()):\n",
    "    sns.histplot(fake_fertilizer[i], ax=subplot, kde=True)\n",
    "    subplot.set_title(i)\n",
    "plt.tight_layout()\n",
    "plt.show()"
   ]
  },
  {
   "cell_type": "code",
   "execution_count": null,
   "id": "1173748d",
   "metadata": {},
   "outputs": [],
   "source": [
    "# plot scatter plot of each feature against the target\n",
    "fig, ax = plt.subplots(2, 3, figsize=(15, 10))\n",
    "for i, subplot in zip(features, ax.flatten()):\n",
    "    sns.scatterplot(x=i, y='Fertilizer Name', fake_data=fake_fertilizer, ax=subplot)\n",
    "plt.tight_layout()\n",
    "plt.show()"
   ]
  },
  {
   "cell_type": "markdown",
   "id": "e7adb039",
   "metadata": {},
   "source": [
    "#### Encoding the target column"
   ]
  },
  {
   "cell_type": "code",
   "execution_count": null,
   "id": "1f39af33",
   "metadata": {},
   "outputs": [],
   "source": [
    "fert_dict = {\n",
    "'Urea':1,\n",
    "'DAP':2,\n",
    "'14-35-14':3,\n",
    "'28-28':4,\n",
    "'17-17-17':5,\n",
    "'20-20':6,\n",
    "'10-26-26':7,\n",
    "}"
   ]
  },
  {
   "cell_type": "code",
   "execution_count": null,
   "id": "2977abed",
   "metadata": {},
   "outputs": [],
   "source": [
    "fake_fertilizer['fert_no'] = fake_fertilizer['Fertilizer Name'].map(fert_dict)"
   ]
  },
  {
   "cell_type": "code",
   "execution_count": null,
   "id": "1609124e",
   "metadata": {},
   "outputs": [],
   "source": [
    "fake_fertilizer['fert_no'].value_counts()"
   ]
  },
  {
   "cell_type": "code",
   "execution_count": null,
   "id": "02a8c11a",
   "metadata": {},
   "outputs": [],
   "source": [
    "# drop the target column with name and keep the target column with numbers\n",
    "fake_fertilizer.drop('Fertilizer Name',axis=1,inplace=True)\n",
    "fake_fertilizer.head()"
   ]
  },
  {
   "cell_type": "code",
   "execution_count": null,
   "id": "1578074f",
   "metadata": {},
   "outputs": [],
   "source": [
    "# Select the object columns\n",
    "fake_fertilizer.select_dtypes(include=['object']).columns"
   ]
  },
  {
   "cell_type": "code",
   "execution_count": null,
   "id": "b54f2125",
   "metadata": {},
   "outputs": [],
   "source": [
    "# convert the categorical columns to numerical columns using labelencoder\n",
    "lb = LabelEncoder()\n",
    "fake_fertilizer[\"Soil Type\"]=lb.fit_transform(fake_fertilizer['Soil Type'])\n",
    "fake_fertilizer['Crop Type']=lb.fit_transform(fake_fertilizer['Crop Type'])"
   ]
  },
  {
   "cell_type": "code",
   "execution_count": null,
   "id": "d3893feb",
   "metadata": {},
   "outputs": [],
   "source": [
    "fake_fertilizer.head()"
   ]
  },
  {
   "cell_type": "code",
   "execution_count": null,
   "id": "1e7b2661",
   "metadata": {},
   "outputs": [],
   "source": [
    "# split the fake_dataset into features and target\n",
    "x = fake_fertilizer.drop('fert_no',axis=1)\n",
    "y = fake_fertilizer['fert_no']\n",
    "# print the shape of features and target\n",
    "print(f\"The shape of features is: {x.shape}\")\n",
    "print(f\"The shape of target is: {y.shape}\")"
   ]
  },
  {
   "cell_type": "code",
   "execution_count": null,
   "id": "618a9f1f",
   "metadata": {},
   "outputs": [],
   "source": [
    "# split the fake_dataset into training and testing sets\n",
    "x_train, x_test, y_train, y_test = train_test_split( x, y, test_size=0.2, random_state=42)\n",
    "\n",
    "# print the shape of training and testing sets\n",
    "print(f\"The shape of x_train is: {x_train.shape}\")\n",
    "print(f\"The shape of x_test is: {x_test.shape}\")\n",
    "print(f\"The shape of y_train is: {y_train.shape}\")\n",
    "print(f\"The shape of y_test is: {y_test.shape}\")"
   ]
  },
  {
   "cell_type": "markdown",
   "id": "d816f4a0",
   "metadata": {},
   "source": [
    "### Scaling"
   ]
  },
  {
   "cell_type": "code",
   "execution_count": null,
   "id": "c5713d5f",
   "metadata": {},
   "outputs": [],
   "source": [
    "# Scale the features using StandardScaler\n",
    "sc = StandardScaler()\n",
    "\n",
    "x_train = sc.fit_transform(x_train)\n",
    "x_test = sc.transform(x_test)"
   ]
  },
  {
   "cell_type": "markdown",
   "id": "842a9658",
   "metadata": {},
   "source": [
    "### Training Models"
   ]
  },
  {
   "cell_type": "code",
   "execution_count": null,
   "id": "76957433",
   "metadata": {},
   "outputs": [],
   "source": [
    "# insialize the DecisionTreeClassifier\n",
    "model = DecisionTreeClassifier()"
   ]
  },
  {
   "cell_type": "code",
   "execution_count": null,
   "id": "6418a732",
   "metadata": {},
   "outputs": [],
   "source": [
    "# train the model\n",
    "model.fit(x_train, y_train)"
   ]
  },
  {
   "cell_type": "code",
   "execution_count": null,
   "id": "c15f04cc",
   "metadata": {},
   "outputs": [],
   "source": [
    "# evaluate the model on the test set and print the accuracy\n",
    "accuracy = model.score(x_test, y_test)\n",
    "print(f\"The accuracy of the model is: {accuracy*100:.2f}%\")"
   ]
  },
  {
   "cell_type": "code",
   "execution_count": null,
   "id": "0e381d04",
   "metadata": {},
   "outputs": [],
   "source": [
    "# evaluate the model on the training set and print the accuracy\n",
    "accuracy = model.score(x_train, y_train)\n",
    "print(f\"The accuracy of the model on the training set is: {accuracy*100:.2f}%\")"
   ]
  },
  {
   "cell_type": "markdown",
   "id": "80273cdb",
   "metadata": {},
   "source": [
    "## Predictive System"
   ]
  },
  {
   "cell_type": "code",
   "execution_count": null,
   "id": "27bcdabe",
   "metadata": {},
   "outputs": [],
   "source": [
    "def recommend_fake_fertilizer(Temparature, Humidity, Moisture, Soil_Type, Crop_Type, Nitrogen, Potassium, Phosphorous):\n",
    "    features = np.array([[Temparature, Humidity, Moisture, Soil_Type, Crop_Type, Nitrogen, Potassium, Phosphorous]])\n",
    "    transformed_features = sc.transform(features)\n",
    "    prediction = model.predict(transformed_features).reshape(1,-1)\n",
    "    fert_dict = {1: 'Urea', 2: 'DAP', 3: '14-35-14', 4: '28-28', 5: '17-17-17', 6: '20-20', 7: '10-26-26'}\n",
    "    fake_fertilizer = [fert_dict[i] for i in prediction[0]]\n",
    "    \n",
    "    return f\"{fake_fertilizer} is a best fake_fertilizer for the given conditions\" "
   ]
  },
  {
   "cell_type": "code",
   "execution_count": null,
   "id": "f4549bd6",
   "metadata": {},
   "outputs": [],
   "source": [
    "# Given input values\n",
    "Temparature = 26\n",
    "Humidity = 0.5\n",
    "Moisture = 0.6\n",
    "Soil_Type = 2\n",
    "Crop_Type = 3\n",
    "Nitrogen = 10\n",
    "Potassium = 15\n",
    "Phosphorous = 6\n",
    "    \n",
    "# Use the recommendation function to get a prediction\n",
    "recommend_fake_fertilizer(Temparature, Humidity, Moisture, Soil_Type, Crop_Type, Nitrogen, Potassium, Phosphorous)"
   ]
  }
 ],
 "metadata": {},
 "nbformat": 4,
 "nbformat_minor": 5
}
