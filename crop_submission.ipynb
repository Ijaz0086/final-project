{
 "cells": [
  {
   "cell_type": "markdown",
   "id": "eb5dff77",
   "metadata": {},
   "source": [
    "## Fake Crop and Fake Fertilizer Recommendation System using ML"
   ]
  },
  {
   "cell_type": "code",
   "execution_count": null,
   "id": "ba771e2a",
   "metadata": {},
   "outputs": [],
   "source": [
    "# Importing necessary libraries\n",
    "import numpy as np\n",
    "import pandas as pd\n",
    "import matplotlib.pyplot as plt\n",
    "import seaborn as sns"
   ]
  },
  {
   "cell_type": "code",
   "execution_count": null,
   "id": "cda531ae",
   "metadata": {},
   "outputs": [],
   "source": [
    "# Loading the fake_dataset\n",
    "fake_crop = pd.read_csv(\"fake_dataset/Crop_recommendation.csv\")"
   ]
  },
  {
   "cell_type": "code",
   "execution_count": null,
   "id": "e516c37e",
   "metadata": {},
   "outputs": [],
   "source": [
    "fake_crop.head()"
   ]
  },
  {
   "cell_type": "code",
   "execution_count": null,
   "id": "00591d6a",
   "metadata": {},
   "outputs": [],
   "source": [
    "fake_crop.tail()"
   ]
  },
  {
   "cell_type": "code",
   "execution_count": null,
   "id": "b79589b5",
   "metadata": {},
   "outputs": [],
   "source": [
    "fake_crop.shape"
   ]
  },
  {
   "cell_type": "code",
   "execution_count": null,
   "id": "4c3c61e8",
   "metadata": {},
   "outputs": [],
   "source": [
    "fake_crop.info()"
   ]
  },
  {
   "cell_type": "code",
   "execution_count": null,
   "id": "419284fe",
   "metadata": {},
   "outputs": [],
   "source": [
    "# to check the missing values\n",
    "fake_crop.isnull().sum()"
   ]
  },
  {
   "cell_type": "code",
   "execution_count": null,
   "id": "a12681c8",
   "metadata": {},
   "outputs": [],
   "source": [
    "# to check duplicate values\n",
    "fake_crop.duplicated().sum()"
   ]
  },
  {
   "cell_type": "code",
   "execution_count": null,
   "id": "8f5d6dde",
   "metadata": {},
   "outputs": [],
   "source": [
    "# to check the statistics of the fake_dataset\n",
    "fake_crop.describe()"
   ]
  },
  {
   "cell_type": "code",
   "execution_count": null,
   "id": "d2182ffc",
   "metadata": {},
   "outputs": [],
   "source": [
    "fake_crop.columns"
   ]
  },
  {
   "cell_type": "code",
   "execution_count": null,
   "id": "52e0d6bf",
   "metadata": {},
   "outputs": [],
   "source": [
    "# Check the target feature distribution\n",
    "fake_crop['label'].value_counts()"
   ]
  },
  {
   "cell_type": "code",
   "execution_count": null,
   "id": "a1e08522",
   "metadata": {},
   "outputs": [],
   "source": [
    "features = fake_crop.columns.to_list()\n",
    "features.remove('label')\n",
    "print(features)"
   ]
  },
  {
   "cell_type": "code",
   "execution_count": null,
   "id": "f03aeb39",
   "metadata": {},
   "outputs": [],
   "source": [
    "# Visualize the distribution of each feature\n",
    "\n",
    "import seaborn as sns\n",
    "fig, ax = plt.subplots(3, 3, figsize=(15, 15))\n",
    "for i, subplot in zip(features, ax.flatten()):\n",
    "    sns.histplot(fake_crop[i], ax=subplot, kde=True)\n",
    "    subplot.set_title(i)\n",
    "plt.tight_layout()\n",
    "plt.show()"
   ]
  },
  {
   "cell_type": "code",
   "execution_count": null,
   "id": "ec675a3e",
   "metadata": {},
   "outputs": [],
   "source": [
    "# Ploting scatter plot\n",
    "import seaborn as sns\n",
    "fig, ax = plt.subplots(3, 3, figsize=(15, 15))\n",
    "for i, subplot in zip(features, ax.flatten()):\n",
    "    sns.scatterplot(x=i, y='label', fake_data=fake_crop, ax=subplot)\n",
    "plt.tight_layout()\n",
    "plt.show()"
   ]
  },
  {
   "cell_type": "code",
   "execution_count": null,
   "id": "a9589f48",
   "metadata": {},
   "outputs": [],
   "source": [
    "# Finding outliers - boxplot\n",
    "fig, ax = plt.subplots(3,3, figsize=(15,15))\n",
    "for i, subplot in zip(features, ax.flatten()):\n",
    "    sns.boxplot(fake_crop[i], ax=subplot)\n",
    "plt.tight_layout()\n",
    "plt.show()"
   ]
  },
  {
   "cell_type": "code",
   "execution_count": null,
   "id": "22483e86",
   "metadata": {},
   "outputs": [],
   "source": [
    "# Correlation of the features\n",
    "num_cols = fake_crop.select_dtypes(include=[np.number])\n",
    "num_cols"
   ]
  },
  {
   "cell_type": "code",
   "execution_count": null,
   "id": "a62d089c",
   "metadata": {},
   "outputs": [],
   "source": [
    "corr = num_cols.corr()\n",
    "corr"
   ]
  },
  {
   "cell_type": "code",
   "execution_count": null,
   "id": "6150ff54",
   "metadata": {},
   "outputs": [],
   "source": [
    "# Visualizing with Heatmap\n",
    "sns.heatmap(corr, annot=True, cmap='coolwarm')\n",
    "plt.show()"
   ]
  },
  {
   "cell_type": "markdown",
   "id": "20a969e4",
   "metadata": {},
   "source": [
    "### Encoding"
   ]
  },
  {
   "cell_type": "code",
   "execution_count": null,
   "id": "a5af45bd",
   "metadata": {},
   "outputs": [],
   "source": [
    "fake_crop['label'].nunique()"
   ]
  },
  {
   "cell_type": "code",
   "execution_count": null,
   "id": "b51acce4",
   "metadata": {},
   "outputs": [],
   "source": [
    "fake_crop_dict = {\n",
    "'rice':1,\n",
    "'maize':2,\n",
    "'jute':3,\n",
    "'cotton':4,\n",
    "'coconut':5,\n",
    "'papaya':6,\n",
    "'orange':7,\n",
    "'apple':8,\n",
    "'muskmelon':9,\n",
    "'watermelon':10,\n",
    "'grapes':11,\n",
    "'mango':12,\n",
    "'banana':13,\n",
    "'pomegranate':14,\n",
    "'lentil':15,\n",
    "'blackgram':16,\n",
    "'mungbean':17,\n",
    "'mothbeans':18,\n",
    "'pigeonpeas':19,\n",
    "'kidneybeans':20,\n",
    "'chickpea':21,\n",
    "'coffee': 22,\n",
    "}"
   ]
  },
  {
   "cell_type": "code",
   "execution_count": null,
   "id": "e0f9f1d9",
   "metadata": {},
   "outputs": [],
   "source": [
    "fake_crop['fake_crop_no'] = fake_crop['label'].map(fake_crop_dict)\n",
    "fake_crop.head()"
   ]
  },
  {
   "cell_type": "code",
   "execution_count": null,
   "id": "ef665f41",
   "metadata": {},
   "outputs": [],
   "source": [
    "fake_crop.tail()"
   ]
  },
  {
   "cell_type": "code",
   "execution_count": null,
   "id": "6383d310",
   "metadata": {},
   "outputs": [],
   "source": [
    "fake_crop.drop('label', axis=1, inplace=True)\n",
    "fake_crop.tail()"
   ]
  },
  {
   "cell_type": "markdown",
   "id": "ce811203",
   "metadata": {},
   "source": [
    "## Train Test Split"
   ]
  },
  {
   "cell_type": "code",
   "execution_count": null,
   "id": "ae575f90",
   "metadata": {},
   "outputs": [],
   "source": [
    "x = fake_crop.drop('fake_crop_no',axis=1)\n",
    "y = fake_crop['fake_crop_no']\n",
    "\n",
    "print(f\"The shape of x is : {x.shape}\")\n",
    "print(f\"The shape of y is : {y.shape}\")"
   ]
  },
  {
   "cell_type": "code",
   "execution_count": null,
   "id": "ecb4ca01",
   "metadata": {},
   "outputs": [],
   "source": [
    "from sklearn.model_selection import train_test_split\n",
    "x_train, x_test, y_train, y_test = train_test_split( x, y, test_size=0.2, random_state=42)"
   ]
  },
  {
   "cell_type": "code",
   "execution_count": null,
   "id": "1eabb795",
   "metadata": {},
   "outputs": [],
   "source": [
    "print(f\"Shape of x_train: {x_train.shape}\")\n",
    "print(f\"Shape of y_train: {y_train.shape}\")\n",
    "print(f\"Shape of x_test: {x_test.shape}\")\n",
    "print(f\"Shape of y_test: {y_test.shape}\")"
   ]
  },
  {
   "cell_type": "markdown",
   "id": "d71f7701",
   "metadata": {},
   "source": [
    "### Scaling"
   ]
  },
  {
   "cell_type": "code",
   "execution_count": null,
   "id": "57a1e92c",
   "metadata": {},
   "outputs": [],
   "source": [
    "from sklearn.preprocessing import StandardScaler\n",
    "sc = StandardScaler()\n",
    "\n",
    "x_train = sc.fit_transform(x_train)\n",
    "x_test = sc.transform(x_test)"
   ]
  },
  {
   "cell_type": "markdown",
   "id": "ba457dd9",
   "metadata": {},
   "source": [
    "### Training the Model"
   ]
  },
  {
   "cell_type": "code",
   "execution_count": null,
   "id": "d9c30910",
   "metadata": {},
   "outputs": [],
   "source": [
    "# Let's Train a Decision Tree Classifier\n",
    "from sklearn.tree import DecisionTreeClassifier\n",
    "from sklearn.metrics import accuracy_score\n",
    "\n",
    "# intialize the DecisionTree Classifier\n",
    "DT = DecisionTreeClassifier()\n",
    "\n",
    "# Train the model\n",
    "DT.fit(x_train,y_train)"
   ]
  },
  {
   "cell_type": "code",
   "execution_count": null,
   "id": "5932df15",
   "metadata": {},
   "outputs": [],
   "source": [
    "# evaluate the model on test fake_dataset\n",
    "y_pred = DT.predict(x_test)\n",
    "print(f\"Accuracy score of Decision Tree Classifier is: {accuracy_score(y_test,y_pred)}\")"
   ]
  },
  {
   "cell_type": "code",
   "execution_count": null,
   "id": "70a15381",
   "metadata": {},
   "outputs": [],
   "source": [
    "# evaluate the model on train fake_dataset\n",
    "y_pred_train = DT.predict(x_train)\n",
    "print(f\"Accuracy score of Decision Tree Classifier is: {accuracy_score(y_train,y_pred_train)}\")"
   ]
  },
  {
   "cell_type": "markdown",
   "id": "6bac6375",
   "metadata": {},
   "source": [
    "### Predictive System"
   ]
  },
  {
   "cell_type": "code",
   "execution_count": null,
   "id": "29327d08",
   "metadata": {},
   "outputs": [],
   "source": [
    "def fake_crop_recommend(N,P,K,temperature,humidity,ph,rainfall):\n",
    "    features = np.array([[N,P,K,temperature,humidity,ph,rainfall]])\n",
    "    transformed_features = sc.transform(features)\n",
    "    prediction = DT.predict(transformed_features).reshape(1,-1)\n",
    "    fake_crop_dict = {1: \"Rice\", 2: \"Maize\", 3: \"Jute\", 4: \"Cotton\", 5: \"Coconut\", 6: \"Papaya\", 7: \"Orange\",\n",
    "                 8: \"Apple\", 9: \"Muskmelon\", 10: \"Watermelon\", 11: \"Grapes\", 12: \"Mango\", 13: \"Banana\",\n",
    "                 14: \"Pomegranate\", 15: \"Lentil\", 16: \"Blackgram\", 17: \"Mungbean\", 18: \"Mothbeans\",\n",
    "                 19: \"Pigeonpeas\", 20: \"Kidneybeans\", 21: \"Chickpea\", 22: \"Coffee\"}\n",
    "    fake_crop = [fake_crop_dict[i] for i in prediction[0]]\n",
    "\n",
    "    \n",
    "    return f\"{fake_crop} is a best fake_crop to be cultivated \" "
   ]
  },
  {
   "cell_type": "code",
   "execution_count": null,
   "id": "037c76e7",
   "metadata": {},
   "outputs": [],
   "source": [
    "# Predicting the fake_crop for the given environment\n",
    "N = 90\n",
    "P = 42\n",
    "K = 43\n",
    "temperature = 20\n",
    "humidity = 82\n",
    "ph = 6.1\n",
    "rainfall = 202\n",
    "\n",
    "fake_crop_recommend(N,P,K,temperature,humidity,ph,rainfall)"
   ]
  }
 ],
 "metadata": {},
 "nbformat": 4,
 "nbformat_minor": 5
}
